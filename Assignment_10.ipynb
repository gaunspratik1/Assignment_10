{
 "cells": [
  {
   "cell_type": "code",
   "execution_count": 6,
   "id": "247b6fea",
   "metadata": {},
   "outputs": [],
   "source": [
    "import os\n",
    "import shutil"
   ]
  },
  {
   "cell_type": "code",
   "execution_count": 10,
   "id": "32aad708",
   "metadata": {},
   "outputs": [],
   "source": [
    "def search_and_copy_files(source, destination, file_extension):\n",
    "    for foldername, subfolders, filenames in os.walk(source):\n",
    "        for filename in filenames:\n",
    "            if filename.endswith(file_extension):\n",
    "                source_file = os.path.join(foldername, filename)\n",
    "                destination_file = os.path.join(destination, filename)\n",
    "                shutil.copy2(source_file, destination_file)\n",
    "                print(f\"Copied: {source_file} to {destination_file}\")\n"
   ]
  },
  {
   "cell_type": "code",
   "execution_count": 13,
   "id": "9be9ffd1",
   "metadata": {},
   "outputs": [],
   "source": [
    "source = \"D:\\\\FILE TRANSFER\"\n",
    "destination = \"D:\\\\FILE TRANSFER\\\\test\"\n",
    "file_extension = \".jpg\""
   ]
  },
  {
   "cell_type": "code",
   "execution_count": 15,
   "id": "08f663a7",
   "metadata": {},
   "outputs": [
    {
     "name": "stdout",
     "output_type": "stream",
     "text": [
      "Copied: D:\\FILE TRANSFER\\1.jpg to D:\\FILE TRANSFER\\test\\1.jpg\n",
      "Copied: D:\\FILE TRANSFER\\2.jpg to D:\\FILE TRANSFER\\test\\2.jpg\n",
      "Copied: D:\\FILE TRANSFER\\IMG-20220623-WA0002(1) (1).jpg to D:\\FILE TRANSFER\\test\\IMG-20220623-WA0002(1) (1).jpg\n",
      "Copied: D:\\FILE TRANSFER\\IMG20230523153542.jpg to D:\\FILE TRANSFER\\test\\IMG20230523153542.jpg\n",
      "Copied: D:\\FILE TRANSFER\\GC955-8297\\IMG20230516151039.jpg to D:\\FILE TRANSFER\\test\\IMG20230516151039.jpg\n",
      "Copied: D:\\FILE TRANSFER\\GC955-8297\\IMG20230516151052.jpg to D:\\FILE TRANSFER\\test\\IMG20230516151052.jpg\n",
      "Copied: D:\\FILE TRANSFER\\GC955-8297\\IMG20230516151102.jpg to D:\\FILE TRANSFER\\test\\IMG20230516151102.jpg\n",
      "Copied: D:\\FILE TRANSFER\\GC955-8297\\IMG20230516151107.jpg to D:\\FILE TRANSFER\\test\\IMG20230516151107.jpg\n",
      "Copied: D:\\FILE TRANSFER\\GC955-8297\\IMG20230516151123.jpg to D:\\FILE TRANSFER\\test\\IMG20230516151123.jpg\n",
      "Copied: D:\\FILE TRANSFER\\GC955-8297\\IMG20230516151128.jpg to D:\\FILE TRANSFER\\test\\IMG20230516151128.jpg\n",
      "Copied: D:\\FILE TRANSFER\\GC955-8297\\IMG20230516151141.jpg to D:\\FILE TRANSFER\\test\\IMG20230516151141.jpg\n",
      "Copied: D:\\FILE TRANSFER\\GC955-8297\\IMG20230516151149.jpg to D:\\FILE TRANSFER\\test\\IMG20230516151149.jpg\n"
     ]
    },
    {
     "ename": "SameFileError",
     "evalue": "'D:\\\\FILE TRANSFER\\\\test\\\\1.jpg' and 'D:\\\\FILE TRANSFER\\\\test\\\\1.jpg' are the same file",
     "output_type": "error",
     "traceback": [
      "\u001b[1;31m---------------------------------------------------------------------------\u001b[0m",
      "\u001b[1;31mSameFileError\u001b[0m                             Traceback (most recent call last)",
      "Input \u001b[1;32mIn [15]\u001b[0m, in \u001b[0;36m<cell line: 1>\u001b[1;34m()\u001b[0m\n\u001b[1;32m----> 1\u001b[0m \u001b[43msearch_and_copy_files\u001b[49m\u001b[43m(\u001b[49m\u001b[43msource\u001b[49m\u001b[43m,\u001b[49m\u001b[43m \u001b[49m\u001b[43mdestination\u001b[49m\u001b[43m,\u001b[49m\u001b[43m \u001b[49m\u001b[43mfile_extension\u001b[49m\u001b[43m)\u001b[49m\n",
      "Input \u001b[1;32mIn [10]\u001b[0m, in \u001b[0;36msearch_and_copy_files\u001b[1;34m(source, destination, file_extension)\u001b[0m\n\u001b[0;32m      5\u001b[0m source_file \u001b[38;5;241m=\u001b[39m os\u001b[38;5;241m.\u001b[39mpath\u001b[38;5;241m.\u001b[39mjoin(foldername, filename)\n\u001b[0;32m      6\u001b[0m destination_file \u001b[38;5;241m=\u001b[39m os\u001b[38;5;241m.\u001b[39mpath\u001b[38;5;241m.\u001b[39mjoin(destination, filename)\n\u001b[1;32m----> 7\u001b[0m \u001b[43mshutil\u001b[49m\u001b[38;5;241;43m.\u001b[39;49m\u001b[43mcopy2\u001b[49m\u001b[43m(\u001b[49m\u001b[43msource_file\u001b[49m\u001b[43m,\u001b[49m\u001b[43m \u001b[49m\u001b[43mdestination_file\u001b[49m\u001b[43m)\u001b[49m\n\u001b[0;32m      8\u001b[0m \u001b[38;5;28mprint\u001b[39m(\u001b[38;5;124mf\u001b[39m\u001b[38;5;124m\"\u001b[39m\u001b[38;5;124mCopied: \u001b[39m\u001b[38;5;132;01m{\u001b[39;00msource_file\u001b[38;5;132;01m}\u001b[39;00m\u001b[38;5;124m to \u001b[39m\u001b[38;5;132;01m{\u001b[39;00mdestination_file\u001b[38;5;132;01m}\u001b[39;00m\u001b[38;5;124m\"\u001b[39m)\n",
      "File \u001b[1;32m~\\anaconda3\\lib\\shutil.py:444\u001b[0m, in \u001b[0;36mcopy2\u001b[1;34m(src, dst, follow_symlinks)\u001b[0m\n\u001b[0;32m    442\u001b[0m \u001b[38;5;28;01mif\u001b[39;00m os\u001b[38;5;241m.\u001b[39mpath\u001b[38;5;241m.\u001b[39misdir(dst):\n\u001b[0;32m    443\u001b[0m     dst \u001b[38;5;241m=\u001b[39m os\u001b[38;5;241m.\u001b[39mpath\u001b[38;5;241m.\u001b[39mjoin(dst, os\u001b[38;5;241m.\u001b[39mpath\u001b[38;5;241m.\u001b[39mbasename(src))\n\u001b[1;32m--> 444\u001b[0m \u001b[43mcopyfile\u001b[49m\u001b[43m(\u001b[49m\u001b[43msrc\u001b[49m\u001b[43m,\u001b[49m\u001b[43m \u001b[49m\u001b[43mdst\u001b[49m\u001b[43m,\u001b[49m\u001b[43m \u001b[49m\u001b[43mfollow_symlinks\u001b[49m\u001b[38;5;241;43m=\u001b[39;49m\u001b[43mfollow_symlinks\u001b[49m\u001b[43m)\u001b[49m\n\u001b[0;32m    445\u001b[0m copystat(src, dst, follow_symlinks\u001b[38;5;241m=\u001b[39mfollow_symlinks)\n\u001b[0;32m    446\u001b[0m \u001b[38;5;28;01mreturn\u001b[39;00m dst\n",
      "File \u001b[1;32m~\\anaconda3\\lib\\shutil.py:244\u001b[0m, in \u001b[0;36mcopyfile\u001b[1;34m(src, dst, follow_symlinks)\u001b[0m\n\u001b[0;32m    241\u001b[0m sys\u001b[38;5;241m.\u001b[39maudit(\u001b[38;5;124m\"\u001b[39m\u001b[38;5;124mshutil.copyfile\u001b[39m\u001b[38;5;124m\"\u001b[39m, src, dst)\n\u001b[0;32m    243\u001b[0m \u001b[38;5;28;01mif\u001b[39;00m _samefile(src, dst):\n\u001b[1;32m--> 244\u001b[0m     \u001b[38;5;28;01mraise\u001b[39;00m SameFileError(\u001b[38;5;124m\"\u001b[39m\u001b[38;5;132;01m{!r}\u001b[39;00m\u001b[38;5;124m and \u001b[39m\u001b[38;5;132;01m{!r}\u001b[39;00m\u001b[38;5;124m are the same file\u001b[39m\u001b[38;5;124m\"\u001b[39m\u001b[38;5;241m.\u001b[39mformat(src, dst))\n\u001b[0;32m    246\u001b[0m file_size \u001b[38;5;241m=\u001b[39m \u001b[38;5;241m0\u001b[39m\n\u001b[0;32m    247\u001b[0m \u001b[38;5;28;01mfor\u001b[39;00m i, fn \u001b[38;5;129;01min\u001b[39;00m \u001b[38;5;28menumerate\u001b[39m([src, dst]):\n",
      "\u001b[1;31mSameFileError\u001b[0m: 'D:\\\\FILE TRANSFER\\\\test\\\\1.jpg' and 'D:\\\\FILE TRANSFER\\\\test\\\\1.jpg' are the same file"
     ]
    }
   ],
   "source": [
    "search_and_copy_files(source, destination, file_extension)"
   ]
  },
  {
   "cell_type": "code",
   "execution_count": null,
   "id": "b8f801a7",
   "metadata": {},
   "outputs": [],
   "source": []
  }
 ],
 "metadata": {
  "kernelspec": {
   "display_name": "Python 3 (ipykernel)",
   "language": "python",
   "name": "python3"
  },
  "language_info": {
   "codemirror_mode": {
    "name": "ipython",
    "version": 3
   },
   "file_extension": ".py",
   "mimetype": "text/x-python",
   "name": "python",
   "nbconvert_exporter": "python",
   "pygments_lexer": "ipython3",
   "version": "3.9.12"
  }
 },
 "nbformat": 4,
 "nbformat_minor": 5
}
